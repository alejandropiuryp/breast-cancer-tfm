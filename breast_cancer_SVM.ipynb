{
 "cells": [
  {
   "cell_type": "markdown",
   "id": "7e009e17",
   "metadata": {},
   "source": [
    "# Importamos bibliotecas"
   ]
  },
  {
   "cell_type": "code",
   "execution_count": 1,
   "id": "c6c47c7f",
   "metadata": {},
   "outputs": [],
   "source": [
    "import pandas as pd\n",
    "from PIL import Image\n",
    "import numpy as np\n",
    "from skimage.feature import hog\n",
    "from sklearn import svm\n",
    "from sklearn.metrics import classification_report,accuracy_score\n",
    "import pandas as pd\n",
    "from PIL import Image\n",
    "from skimage.feature import hog\n",
    "import numpy as np\n",
    "from joblib import load"
   ]
  },
  {
   "cell_type": "markdown",
   "id": "4718558b",
   "metadata": {},
   "source": [
    "# Procesado de imagenes a 16x16 para aligerar tiempos de entrenamiento, se convierte a escala de grises para poder extraer las Hog features, preferiblemente sería tenerlas en 64x64"
   ]
  },
  {
   "cell_type": "code",
   "execution_count": 2,
   "id": "2fd47681",
   "metadata": {},
   "outputs": [],
   "source": [
    "#Procesado de img (a 16x16 para agilizar el entrenamiento)\n",
    "def load_and_process_image(image_path):\n",
    "    image = Image.open(image_path)\n",
    "    image = image.resize((16, 16)) # Cambia el tamaño de la imagen a 16x16.\n",
    "    image = image.convert('L') # Convertir a escala de grises ya que HOG se calcula sobre imágenes en escala de grises\n",
    "    return np.array(image)"
   ]
  },
  {
   "cell_type": "markdown",
   "id": "18dd4074",
   "metadata": {},
   "source": [
    "# Funcixtraccion de Hog features"
   ]
  },
  {
   "cell_type": "code",
   "execution_count": 3,
   "id": "73c5734b",
   "metadata": {},
   "outputs": [],
   "source": [
    "#hog\n",
    "def extract_features(images):\n",
    "    hog_features = []\n",
    "    for image in images:\n",
    "        fd = hog(image, orientations=8, pixels_per_cell=(16,16), cells_per_block=(1, 1))\n",
    "        hog_features.append(fd)\n",
    "    return np.array(hog_features)\n"
   ]
  },
  {
   "cell_type": "markdown",
   "id": "05a8e2e1",
   "metadata": {},
   "source": [
    "# Lectura de datos desde CSV de train, test y validation"
   ]
  },
  {
   "cell_type": "code",
   "execution_count": 4,
   "id": "066da246",
   "metadata": {},
   "outputs": [
    {
     "name": "stdout",
     "output_type": "stream",
     "text": [
      "Cargando datos de los CSV...\n"
     ]
    }
   ],
   "source": [
    "#Csv\n",
    "print(\"Cargando datos de los CSV...\")\n",
    "train_data = pd.read_csv('train_data.csv')\n",
    "test_data = pd.read_csv('test_data.csv')\n",
    "val_data = pd.read_csv('val_data.csv')\n"
   ]
  },
  {
   "cell_type": "markdown",
   "id": "c4e5ebdd",
   "metadata": {},
   "source": [
    "# Procesamos y obtenemos etiquetas de los 3 csv anteriormente leídos"
   ]
  },
  {
   "cell_type": "code",
   "execution_count": 5,
   "id": "a98d667d",
   "metadata": {},
   "outputs": [
    {
     "name": "stdout",
     "output_type": "stream",
     "text": [
      "procesando imágenes...\n",
      "imágenes procesadas con éxito.\n"
     ]
    }
   ],
   "source": [
    "#Carga+procesado+obtencion de etiquetas\n",
    "print(\"procesando imágenes...\")\n",
    "X_train = np.array([load_and_process_image(img_path) for img_path in train_data['path']])\n",
    "y_train = train_data['label']\n",
    "X_test = np.array([load_and_process_image(img_path) for img_path in test_data['path']])\n",
    "y_test = test_data['label']\n",
    "X_val = np.array([load_and_process_image(img_path) for img_path in val_data['path']])\n",
    "y_val = val_data['label']\n",
    "print(\"imágenes procesadas con éxito.\")\n"
   ]
  },
  {
   "cell_type": "markdown",
   "id": "90c9e246",
   "metadata": {},
   "source": [
    "# Extraccion de las hog features"
   ]
  },
  {
   "cell_type": "code",
   "execution_count": 6,
   "id": "373a18df",
   "metadata": {},
   "outputs": [
    {
     "name": "stdout",
     "output_type": "stream",
     "text": [
      "Extrayendo HOG features...\n",
      "HOG extraídas con éxito.\n"
     ]
    }
   ],
   "source": [
    "# características HOG\n",
    "print(\"Extrayendo HOG features...\")\n",
    "X_train_hog = extract_features(X_train)\n",
    "X_test_hog = extract_features(X_test)\n",
    "X_val_hog = extract_features(X_val)\n",
    "print(\"HOG extraídas con éxito.\")"
   ]
  },
  {
   "cell_type": "markdown",
   "id": "97058f54",
   "metadata": {},
   "source": [
    "# Instancia de SVC, con la configuración por defecto utilizamos un RBF y parametros de regularización de 1.0"
   ]
  },
  {
   "cell_type": "code",
   "execution_count": 7,
   "id": "266d9860",
   "metadata": {},
   "outputs": [],
   "source": [
    "#clasificador SVM\n",
    "clf = svm.SVC()"
   ]
  },
  {
   "cell_type": "markdown",
   "id": "27c73341",
   "metadata": {},
   "source": [
    "# Comienza el entrenamiento del modelo"
   ]
  },
  {
   "cell_type": "markdown",
   "id": "0b1509dd",
   "metadata": {},
   "source": [
    "print(\"Entrenando el modelo SVM...\")\n",
    "clf.fit(X_train_hog, y_train)\n",
    "print(\"Al fin, entrenado.\")"
   ]
  },
  {
   "cell_type": "markdown",
   "id": "314b00e2",
   "metadata": {},
   "source": [
    "# Se realizan predicciones usando el conjunto de test y validation"
   ]
  },
  {
   "cell_type": "code",
   "execution_count": 9,
   "id": "396dc78e",
   "metadata": {},
   "outputs": [
    {
     "name": "stdout",
     "output_type": "stream",
     "text": [
      "Realizando predicciones en test_data...\n",
      "Realizando predicciones en val_data...\n"
     ]
    }
   ],
   "source": [
    "# predicciones\n",
    "print(\"Realizando predicciones en test_data...\")\n",
    "y_pred_test = clf.predict(X_test_hog)\n",
    "print(\"Realizando predicciones en val_data...\")\n",
    "y_pred_val = clf.predict(X_val_hog)\n"
   ]
  },
  {
   "cell_type": "markdown",
   "id": "394749fc",
   "metadata": {},
   "source": [
    "# Rendimiento del modelo en los conjuntos de prueba y validación. La exactitud es del 71.7% en el conjunto de prueba y del 71.4% en el conjunto de validación. La precisión es la proporción de verdaderos positivos (TP) entre la suma de los verdaderos positivos y los falsos positivos (FP). La recuperación, también conocida como sensibilidad o tasa de verdaderos positivos, es la proporción de verdaderos positivos (TP) entre la suma de los verdaderos positivos y los falsos negativos (FN). La puntuación F1 es la media armónica de la precisión y la recuperación, proporcionando un equilibrio entre ambas medidas. El modelo presenta un sesgo hacia la clase 0, lo cual es normal al trabajar con un cojunto de datos desequilibrado."
   ]
  },
  {
   "cell_type": "code",
   "execution_count": 10,
   "id": "23e87310",
   "metadata": {},
   "outputs": [
    {
     "name": "stdout",
     "output_type": "stream",
     "text": [
      "Evaluando modelo...\n",
      "\n",
      "Accuracy en el test:  0.7179129933459848\n",
      "\n",
      "               precision    recall  f1-score   support\n",
      "\n",
      "           0       0.72      1.00      0.84     29886\n",
      "           1       0.00      0.00      0.00     11743\n",
      "\n",
      "    accuracy                           0.72     41629\n",
      "   macro avg       0.36      0.50      0.42     41629\n",
      "weighted avg       0.52      0.72      0.60     41629\n",
      "\n",
      "\n",
      "Accuracy en validación:  0.7143097360013452\n",
      "\n",
      "               precision    recall  f1-score   support\n",
      "\n",
      "           0       0.71      1.00      0.83     29736\n",
      "           1       0.00      0.00      0.00     11893\n",
      "\n",
      "    accuracy                           0.71     41629\n",
      "   macro avg       0.36      0.50      0.42     41629\n",
      "weighted avg       0.51      0.71      0.60     41629\n",
      "\n"
     ]
    },
    {
     "name": "stderr",
     "output_type": "stream",
     "text": [
      "C:\\ProgramData\\anaconda3\\lib\\site-packages\\sklearn\\metrics\\_classification.py:1344: UndefinedMetricWarning: Precision and F-score are ill-defined and being set to 0.0 in labels with no predicted samples. Use `zero_division` parameter to control this behavior.\n",
      "  _warn_prf(average, modifier, msg_start, len(result))\n",
      "C:\\ProgramData\\anaconda3\\lib\\site-packages\\sklearn\\metrics\\_classification.py:1344: UndefinedMetricWarning: Precision and F-score are ill-defined and being set to 0.0 in labels with no predicted samples. Use `zero_division` parameter to control this behavior.\n",
      "  _warn_prf(average, modifier, msg_start, len(result))\n",
      "C:\\ProgramData\\anaconda3\\lib\\site-packages\\sklearn\\metrics\\_classification.py:1344: UndefinedMetricWarning: Precision and F-score are ill-defined and being set to 0.0 in labels with no predicted samples. Use `zero_division` parameter to control this behavior.\n",
      "  _warn_prf(average, modifier, msg_start, len(result))\n",
      "C:\\ProgramData\\anaconda3\\lib\\site-packages\\sklearn\\metrics\\_classification.py:1344: UndefinedMetricWarning: Precision and F-score are ill-defined and being set to 0.0 in labels with no predicted samples. Use `zero_division` parameter to control this behavior.\n",
      "  _warn_prf(average, modifier, msg_start, len(result))\n",
      "C:\\ProgramData\\anaconda3\\lib\\site-packages\\sklearn\\metrics\\_classification.py:1344: UndefinedMetricWarning: Precision and F-score are ill-defined and being set to 0.0 in labels with no predicted samples. Use `zero_division` parameter to control this behavior.\n",
      "  _warn_prf(average, modifier, msg_start, len(result))\n",
      "C:\\ProgramData\\anaconda3\\lib\\site-packages\\sklearn\\metrics\\_classification.py:1344: UndefinedMetricWarning: Precision and F-score are ill-defined and being set to 0.0 in labels with no predicted samples. Use `zero_division` parameter to control this behavior.\n",
      "  _warn_prf(average, modifier, msg_start, len(result))\n"
     ]
    }
   ],
   "source": [
    "# Evaluacion\n",
    "print(\"Evaluando modelo...\")\n",
    "print('\\nAccuracy en el test: ',accuracy_score(y_test, y_pred_test))\n",
    "print('\\n',classification_report(y_test, y_pred_test))\n",
    "print('\\nAccuracy en validación: ',accuracy_score(y_val, y_pred_val))\n",
    "print('\\n',classification_report(y_val, y_pred_val))\n"
   ]
  },
  {
   "cell_type": "markdown",
   "id": "25f33248",
   "metadata": {},
   "source": [
    "# Save del modelo"
   ]
  },
  {
   "cell_type": "code",
   "execution_count": 11,
   "id": "92c8de82",
   "metadata": {},
   "outputs": [
    {
     "name": "stdout",
     "output_type": "stream",
     "text": [
      "Modelo guardado con éxito.\n"
     ]
    }
   ],
   "source": [
    "# Guardar el modelo\n",
    "from joblib import dump\n",
    "dump(clf, 'svm_model.joblib') \n",
    "print(\"Modelo guardado con éxito.\")"
   ]
  },
  {
   "cell_type": "markdown",
   "id": "5b4661e4",
   "metadata": {},
   "source": [
    "# Predicciones del modelo, usaremos test y validation ya que n se han usado durante el entrenamiento"
   ]
  },
  {
   "cell_type": "code",
   "execution_count": 5,
   "id": "4db53fbc",
   "metadata": {},
   "outputs": [],
   "source": [
    "# Carga de datos (uso validacion por no usarse en el entrenamiento)\n",
    "train_data = pd.read_csv('val_data.csv')"
   ]
  },
  {
   "cell_type": "markdown",
   "id": "c9fbdb18",
   "metadata": {},
   "source": [
    "# Extraemos una imagen aleatoria de los conjuntos de datos para realizar la predicción"
   ]
  },
  {
   "cell_type": "code",
   "execution_count": 6,
   "id": "3916379f",
   "metadata": {},
   "outputs": [],
   "source": [
    "# Sacar una imagen aleatoria\n",
    "random_row = train_data.sample()\n",
    "image_path = random_row['path'].values[0]\n",
    "true_label = random_row['label'].values[0]"
   ]
  },
  {
   "cell_type": "markdown",
   "id": "a534f69c",
   "metadata": {},
   "source": [
    "# Función para la carga y procesado de la imagen anteriormente extraida, una vez más se procesa a 16x16"
   ]
  },
  {
   "cell_type": "code",
   "execution_count": 8,
   "id": "1775a9e5",
   "metadata": {},
   "outputs": [],
   "source": [
    "# Carga+procesado\n",
    "def load_and_process_image(image_path):\n",
    "    image = Image.open(image_path)\n",
    "    image = image.resize((16, 16))\n",
    "    image = image.convert('L')\n",
    "    return np.array(image)\n",
    "\n",
    "image = load_and_process_image(image_path)\n"
   ]
  },
  {
   "cell_type": "markdown",
   "id": "a3029735",
   "metadata": {},
   "source": [
    "# Función para extraer las Hog"
   ]
  },
  {
   "cell_type": "code",
   "execution_count": 9,
   "id": "dec24cb6",
   "metadata": {},
   "outputs": [],
   "source": [
    "#HOG\n",
    "def extract_features(image):\n",
    "    fd = hog(image, orientations=8, pixels_per_cell=(16,16), cells_per_block=(1, 1))\n",
    "    return fd\n",
    "\n",
    "hog_features = extract_features(image)"
   ]
  },
  {
   "cell_type": "markdown",
   "id": "c26f063b",
   "metadata": {},
   "source": [
    "# Se carga el modelo guardado previamente y con el se realizan las predicciones, dando en este caso una prediccion de etiqueta 0 y siendo la verdadera etiqueta un 0"
   ]
  },
  {
   "cell_type": "code",
   "execution_count": 10,
   "id": "d1b85f71",
   "metadata": {},
   "outputs": [
    {
     "name": "stdout",
     "output_type": "stream",
     "text": [
      "La predicción para la imagen es: [0]\n",
      "La etiqueta verdadera de la imagen es: 0\n"
     ]
    }
   ],
   "source": [
    "# Carga de modelo\n",
    "model = load('svm_model.joblib')\n",
    "\n",
    "#Predicción\n",
    "prediction = model.predict([hog_features])\n",
    "\n",
    "print(\"La predicción para la imagen es:\", prediction)\n",
    "print(\"La etiqueta verdadera de la imagen es:\", true_label)"
   ]
  }
 ],
 "metadata": {
  "kernelspec": {
   "display_name": "Python 3 (ipykernel)",
   "language": "python",
   "name": "python3"
  },
  "language_info": {
   "codemirror_mode": {
    "name": "ipython",
    "version": 3
   },
   "file_extension": ".py",
   "mimetype": "text/x-python",
   "name": "python",
   "nbconvert_exporter": "python",
   "pygments_lexer": "ipython3",
   "version": "3.10.9"
  }
 },
 "nbformat": 4,
 "nbformat_minor": 5
}
