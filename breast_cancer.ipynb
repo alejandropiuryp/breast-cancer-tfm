{
 "cells": [
  {
   "cell_type": "code",
   "execution_count": 1,
   "id": "c6c47c7f",
   "metadata": {},
   "outputs": [],
   "source": [
    "import pandas as pd\n",
    "from PIL import Image\n",
    "import numpy as np\n",
    "from skimage.feature import hog\n",
    "from sklearn import svm\n",
    "from sklearn.metrics import classification_report,accuracy_score"
   ]
  },
  {
   "cell_type": "code",
   "execution_count": 2,
   "id": "2fd47681",
   "metadata": {},
   "outputs": [],
   "source": [
    "#Procesado de img (a 16x16 para agilizar el entrenamiento)\n",
    "def load_and_process_image(image_path):\n",
    "    image = Image.open(image_path)\n",
    "    image = image.resize((16, 16)) # Cambia el tamaño de la imagen a 64x64 para obtener más características HOG\n",
    "    image = image.convert('L') # Convertir a escala de grises ya que HOG se calcula sobre imágenes en escala de grises\n",
    "    return np.array(image)"
   ]
  },
  {
   "cell_type": "code",
   "execution_count": 3,
   "id": "73c5734b",
   "metadata": {},
   "outputs": [],
   "source": [
    "#hog\n",
    "def extract_features(images):\n",
    "    hog_features = []\n",
    "    for image in images:\n",
    "        fd = hog(image, orientations=8, pixels_per_cell=(16,16), cells_per_block=(1, 1))\n",
    "        hog_features.append(fd)\n",
    "    return np.array(hog_features)\n"
   ]
  },
  {
   "cell_type": "code",
   "execution_count": 4,
   "id": "066da246",
   "metadata": {},
   "outputs": [
    {
     "name": "stdout",
     "output_type": "stream",
     "text": [
      "Cargando datos de los CSV...\n"
     ]
    }
   ],
   "source": [
    "#Csv\n",
    "print(\"Cargando datos de los CSV...\")\n",
    "train_data = pd.read_csv('train_data.csv')\n",
    "test_data = pd.read_csv('test_data.csv')\n",
    "val_data = pd.read_csv('val_data.csv')\n"
   ]
  },
  {
   "cell_type": "code",
   "execution_count": 5,
   "id": "a98d667d",
   "metadata": {},
   "outputs": [
    {
     "name": "stdout",
     "output_type": "stream",
     "text": [
      "procesando imágenes...\n",
      "imágenes procesadas con éxito.\n"
     ]
    }
   ],
   "source": [
    "#Carga+procesado+obtencion de etiquetas\n",
    "print(\"procesando imágenes...\")\n",
    "X_train = np.array([load_and_process_image(img_path) for img_path in train_data['path']])\n",
    "y_train = train_data['label']\n",
    "X_test = np.array([load_and_process_image(img_path) for img_path in test_data['path']])\n",
    "y_test = test_data['label']\n",
    "X_val = np.array([load_and_process_image(img_path) for img_path in val_data['path']])\n",
    "y_val = val_data['label']\n",
    "print(\"imágenes procesadas con éxito.\")\n"
   ]
  },
  {
   "cell_type": "code",
   "execution_count": 6,
   "id": "373a18df",
   "metadata": {},
   "outputs": [
    {
     "name": "stdout",
     "output_type": "stream",
     "text": [
      "Extrayendo HOG features...\n",
      "HOG extraídas con éxito.\n"
     ]
    }
   ],
   "source": [
    "# características HOG\n",
    "print(\"Extrayendo HOG features...\")\n",
    "X_train_hog = extract_features(X_train)\n",
    "X_test_hog = extract_features(X_test)\n",
    "X_val_hog = extract_features(X_val)\n",
    "print(\"HOG extraídas con éxito.\")"
   ]
  },
  {
   "cell_type": "code",
   "execution_count": 7,
   "id": "266d9860",
   "metadata": {},
   "outputs": [],
   "source": [
    "#clasificador SVM\n",
    "clf = svm.SVC()"
   ]
  },
  {
   "cell_type": "code",
   "execution_count": 8,
   "id": "ee4f64fd",
   "metadata": {},
   "outputs": [
    {
     "name": "stdout",
     "output_type": "stream",
     "text": [
      "Entrenando el modelo SVM...\n",
      "Al fin, entrenado.\n"
     ]
    }
   ],
   "source": [
    "# Entrenamiento\n",
    "print(\"Entrenando el modelo SVM...\")\n",
    "clf.fit(X_train_hog, y_train)\n",
    "print(\"Al fin, entrenado.\")"
   ]
  },
  {
   "cell_type": "code",
   "execution_count": 9,
   "id": "396dc78e",
   "metadata": {},
   "outputs": [
    {
     "name": "stdout",
     "output_type": "stream",
     "text": [
      "Realizando predicciones en test_data...\n",
      "Realizando predicciones en val_data...\n"
     ]
    }
   ],
   "source": [
    "# predicciones\n",
    "print(\"Realizando predicciones en test_data...\")\n",
    "y_pred_test = clf.predict(X_test_hog)\n",
    "print(\"Realizando predicciones en val_data...\")\n",
    "y_pred_val = clf.predict(X_val_hog)\n"
   ]
  },
  {
   "cell_type": "code",
   "execution_count": 10,
   "id": "23e87310",
   "metadata": {},
   "outputs": [
    {
     "name": "stdout",
     "output_type": "stream",
     "text": [
      "Evaluando modelo...\n",
      "\n",
      "Accuracy en el test:  0.7179129933459848\n",
      "\n",
      "               precision    recall  f1-score   support\n",
      "\n",
      "           0       0.72      1.00      0.84     29886\n",
      "           1       0.00      0.00      0.00     11743\n",
      "\n",
      "    accuracy                           0.72     41629\n",
      "   macro avg       0.36      0.50      0.42     41629\n",
      "weighted avg       0.52      0.72      0.60     41629\n",
      "\n",
      "\n",
      "Accuracy en validación:  0.7143097360013452\n",
      "\n",
      "               precision    recall  f1-score   support\n",
      "\n",
      "           0       0.71      1.00      0.83     29736\n",
      "           1       0.00      0.00      0.00     11893\n",
      "\n",
      "    accuracy                           0.71     41629\n",
      "   macro avg       0.36      0.50      0.42     41629\n",
      "weighted avg       0.51      0.71      0.60     41629\n",
      "\n"
     ]
    },
    {
     "name": "stderr",
     "output_type": "stream",
     "text": [
      "C:\\ProgramData\\anaconda3\\lib\\site-packages\\sklearn\\metrics\\_classification.py:1344: UndefinedMetricWarning: Precision and F-score are ill-defined and being set to 0.0 in labels with no predicted samples. Use `zero_division` parameter to control this behavior.\n",
      "  _warn_prf(average, modifier, msg_start, len(result))\n",
      "C:\\ProgramData\\anaconda3\\lib\\site-packages\\sklearn\\metrics\\_classification.py:1344: UndefinedMetricWarning: Precision and F-score are ill-defined and being set to 0.0 in labels with no predicted samples. Use `zero_division` parameter to control this behavior.\n",
      "  _warn_prf(average, modifier, msg_start, len(result))\n",
      "C:\\ProgramData\\anaconda3\\lib\\site-packages\\sklearn\\metrics\\_classification.py:1344: UndefinedMetricWarning: Precision and F-score are ill-defined and being set to 0.0 in labels with no predicted samples. Use `zero_division` parameter to control this behavior.\n",
      "  _warn_prf(average, modifier, msg_start, len(result))\n",
      "C:\\ProgramData\\anaconda3\\lib\\site-packages\\sklearn\\metrics\\_classification.py:1344: UndefinedMetricWarning: Precision and F-score are ill-defined and being set to 0.0 in labels with no predicted samples. Use `zero_division` parameter to control this behavior.\n",
      "  _warn_prf(average, modifier, msg_start, len(result))\n",
      "C:\\ProgramData\\anaconda3\\lib\\site-packages\\sklearn\\metrics\\_classification.py:1344: UndefinedMetricWarning: Precision and F-score are ill-defined and being set to 0.0 in labels with no predicted samples. Use `zero_division` parameter to control this behavior.\n",
      "  _warn_prf(average, modifier, msg_start, len(result))\n",
      "C:\\ProgramData\\anaconda3\\lib\\site-packages\\sklearn\\metrics\\_classification.py:1344: UndefinedMetricWarning: Precision and F-score are ill-defined and being set to 0.0 in labels with no predicted samples. Use `zero_division` parameter to control this behavior.\n",
      "  _warn_prf(average, modifier, msg_start, len(result))\n"
     ]
    }
   ],
   "source": [
    "# Evaluacion\n",
    "print(\"Evaluando modelo...\")\n",
    "print('\\nAccuracy en el test: ',accuracy_score(y_test, y_pred_test))\n",
    "print('\\n',classification_report(y_test, y_pred_test))\n",
    "print('\\nAccuracy en validación: ',accuracy_score(y_val, y_pred_val))\n",
    "print('\\n',classification_report(y_val, y_pred_val))\n"
   ]
  },
  {
   "cell_type": "code",
   "execution_count": 11,
   "id": "92c8de82",
   "metadata": {},
   "outputs": [
    {
     "name": "stdout",
     "output_type": "stream",
     "text": [
      "Modelo guardado con éxito.\n"
     ]
    }
   ],
   "source": [
    "# Guardar el modelo\n",
    "from joblib import dump\n",
    "dump(clf, 'svm_model.joblib') \n",
    "print(\"Modelo guardado con éxito.\")"
   ]
  },
  {
   "cell_type": "code",
   "execution_count": null,
   "id": "f3081290",
   "metadata": {},
   "outputs": [],
   "source": []
  }
 ],
 "metadata": {
  "kernelspec": {
   "display_name": "Python 3 (ipykernel)",
   "language": "python",
   "name": "python3"
  },
  "language_info": {
   "codemirror_mode": {
    "name": "ipython",
    "version": 3
   },
   "file_extension": ".py",
   "mimetype": "text/x-python",
   "name": "python",
   "nbconvert_exporter": "python",
   "pygments_lexer": "ipython3",
   "version": "3.10.9"
  }
 },
 "nbformat": 4,
 "nbformat_minor": 5
}
