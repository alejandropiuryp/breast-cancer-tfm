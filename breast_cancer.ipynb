{
  "nbformat": 4,
  "nbformat_minor": 0,
  "metadata": {
    "colab": {
      "provenance": []
    },
    "kernelspec": {
      "name": "python3",
      "display_name": "Python 3"
    },
    "language_info": {
      "name": "python"
    }
  },
  "cells": [
    {
      "cell_type": "markdown",
      "source": [
        "# Análisis exploratorio de los datos (EDA)"
      ],
      "metadata": {
        "id": "bi2zzKFMtPxs"
      }
    },
    {
      "cell_type": "markdown",
      "source": [
        "\n",
        "\n",
        "*   Nº de muestras\n",
        "*   Tamaño de las imágenes\n",
        "*   Proporción de casos positivos vs casos negativos\n",
        "*   Plotear varios casos positivos y varios casos negativos\n",
        "\n"
      ],
      "metadata": {
        "id": "8KCqHzjqtgJq"
      }
    },
    {
      "cell_type": "code",
      "execution_count": null,
      "metadata": {
        "id": "9C8mbCButIcZ"
      },
      "outputs": [],
      "source": []
    },
    {
      "cell_type": "markdown",
      "source": [
        "# Preprocesamiento de los datos"
      ],
      "metadata": {
        "id": "bRgd6YvtvOXD"
      }
    },
    {
      "cell_type": "markdown",
      "source": [
        "\n",
        "\n",
        "*   Split en train, test, validation\n",
        "\n",
        "\n"
      ],
      "metadata": {
        "id": "pcnGSpfOxkk0"
      }
    },
    {
      "cell_type": "code",
      "source": [],
      "metadata": {
        "id": "1D6Qpyg0vQ5L"
      },
      "execution_count": null,
      "outputs": []
    },
    {
      "cell_type": "markdown",
      "source": [
        "# Construcción de modelo base (BASELINE)"
      ],
      "metadata": {
        "id": "ctcHr2Q9vRPj"
      }
    },
    {
      "cell_type": "code",
      "source": [],
      "metadata": {
        "id": "i2oAJo35vVfp"
      },
      "execution_count": null,
      "outputs": []
    },
    {
      "cell_type": "markdown",
      "source": [
        "# Construcción de modelo CNN"
      ],
      "metadata": {
        "id": "GiURctFxvVEb"
      }
    },
    {
      "cell_type": "code",
      "source": [],
      "metadata": {
        "id": "gmfBoJo1vp-U"
      },
      "execution_count": null,
      "outputs": []
    },
    {
      "cell_type": "markdown",
      "source": [
        "## Rendimiento del modelo"
      ],
      "metadata": {
        "id": "Lbcs4vV-wgL9"
      }
    },
    {
      "cell_type": "markdown",
      "source": [
        "\n",
        "\n",
        "*   Matriz de confusión\n",
        "*   Rendimiento: accuracy. Loss: entropía binaria\n",
        "*   Graficar la loss y el accuracy en cada iteración\n",
        "*   Probar distintos parámetros hasta conseguir el mejor resultado (NO BORRAR LAS PRUEBAS ANTERIORES) \n",
        "\n"
      ],
      "metadata": {
        "id": "gVtVqrwTwjel"
      }
    },
    {
      "cell_type": "code",
      "source": [],
      "metadata": {
        "id": "BodYV8eAxc1X"
      },
      "execution_count": null,
      "outputs": []
    },
    {
      "cell_type": "markdown",
      "source": [
        "# Comparación de modelos"
      ],
      "metadata": {
        "id": "wLmJ1dikvpWH"
      }
    },
    {
      "cell_type": "code",
      "source": [],
      "metadata": {
        "id": "7Ea0xbbYxeDL"
      },
      "execution_count": null,
      "outputs": []
    },
    {
      "cell_type": "markdown",
      "source": [
        "# Prueba del modelo"
      ],
      "metadata": {
        "id": "uiZ2b85rxdbf"
      }
    },
    {
      "cell_type": "code",
      "source": [],
      "metadata": {
        "id": "xy5T2oLdxqXF"
      },
      "execution_count": null,
      "outputs": []
    },
    {
      "cell_type": "markdown",
      "source": [
        "# Pipeline end-to-end"
      ],
      "metadata": {
        "id": "2-8bVe2oxp7C"
      }
    },
    {
      "cell_type": "code",
      "source": [],
      "metadata": {
        "id": "MOBNx4DfxuDe"
      },
      "execution_count": null,
      "outputs": []
    }
  ]
}