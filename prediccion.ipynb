{
 "cells": [
  {
   "cell_type": "code",
   "execution_count": 1,
   "id": "272d41a7",
   "metadata": {},
   "outputs": [],
   "source": [
    "import pandas as pd\n",
    "from PIL import Image\n",
    "from skimage.feature import hog\n",
    "import numpy as np\n",
    "from joblib import load\n",
    "\n",
    "# Carga de datos (uso validacion por no usarse en el entrenamiento)\n",
    "train_data = pd.read_csv('val_data.csv')\n"
   ]
  },
  {
   "cell_type": "code",
   "execution_count": 2,
   "id": "4b6abed6",
   "metadata": {},
   "outputs": [],
   "source": [
    "# Sacar una imagen aleatoria\n",
    "random_row = train_data.sample()\n",
    "image_path = random_row['path'].values[0]\n",
    "true_label = random_row['label'].values[0]\n"
   ]
  },
  {
   "cell_type": "code",
   "execution_count": 3,
   "id": "b7b44a9f",
   "metadata": {},
   "outputs": [],
   "source": [
    "# Carga+procesado\n",
    "def load_and_process_image(image_path):\n",
    "    image = Image.open(image_path)\n",
    "    image = image.resize((16, 16))\n",
    "    image = image.convert('L')\n",
    "    return np.array(image)\n",
    "\n",
    "image = load_and_process_image(image_path)\n"
   ]
  },
  {
   "cell_type": "code",
   "execution_count": 4,
   "id": "ee14c2f0",
   "metadata": {},
   "outputs": [],
   "source": [
    "#HOG\n",
    "def extract_features(image):\n",
    "    fd = hog(image, orientations=8, pixels_per_cell=(16,16), cells_per_block=(1, 1))\n",
    "    return fd\n",
    "\n",
    "hog_features = extract_features(image)"
   ]
  },
  {
   "cell_type": "code",
   "execution_count": 5,
   "id": "66b28e79",
   "metadata": {},
   "outputs": [
    {
     "name": "stdout",
     "output_type": "stream",
     "text": [
      "La predicción para la imagen es: [0]\n",
      "La etiqueta verdadera de la imagen es: 0\n"
     ]
    }
   ],
   "source": [
    "# Carga de modelo\n",
    "model = load('svm_model.joblib')\n",
    "\n",
    "#Predicción\n",
    "prediction = model.predict([hog_features])\n",
    "\n",
    "print(\"La predicción para la imagen es:\", prediction)\n",
    "print(\"La etiqueta verdadera de la imagen es:\", true_label)"
   ]
  },
  {
   "cell_type": "code",
   "execution_count": null,
   "id": "4710c083",
   "metadata": {},
   "outputs": [],
   "source": []
  },
  {
   "cell_type": "code",
   "execution_count": null,
   "id": "4f5cf28b",
   "metadata": {},
   "outputs": [],
   "source": []
  }
 ],
 "metadata": {
  "kernelspec": {
   "display_name": "Python 3 (ipykernel)",
   "language": "python",
   "name": "python3"
  },
  "language_info": {
   "codemirror_mode": {
    "name": "ipython",
    "version": 3
   },
   "file_extension": ".py",
   "mimetype": "text/x-python",
   "name": "python",
   "nbconvert_exporter": "python",
   "pygments_lexer": "ipython3",
   "version": "3.10.9"
  }
 },
 "nbformat": 4,
 "nbformat_minor": 5
}
