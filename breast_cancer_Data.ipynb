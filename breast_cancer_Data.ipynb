{
 "cells": [
  {
   "cell_type": "code",
   "execution_count": 21,
   "id": "83ef85c9",
   "metadata": {},
   "outputs": [],
   "source": [
    "from os import listdir\n",
    "from sklearn.model_selection import train_test_split\n",
    "from glob import glob\n",
    "from tensorflow import keras\n",
    "from keras.layers import Conv2D, MaxPooling2D, Flatten, Dense, Input\n",
    "\n",
    "import pandas as pd\n",
    "import numpy as np\n",
    "import os\n",
    "import cv2\n",
    "import seaborn as sns\n",
    "import matplotlib.pyplot as plt"
   ]
  },
  {
   "cell_type": "code",
   "execution_count": 22,
   "id": "047c0868",
   "metadata": {},
   "outputs": [
    {
     "name": "stdout",
     "output_type": "stream",
     "text": [
      "Num GPUs Available:  1\n"
     ]
    }
   ],
   "source": [
    "import tensorflow as tf\n",
    "print(\"Num GPUs Available: \", len(tf.config.list_physical_devices('GPU')))"
   ]
  },
  {
   "cell_type": "markdown",
   "id": "4616c65d",
   "metadata": {},
   "source": [
    "# Índice\n",
    "\n",
    "1. Creación del dataframe\n",
    "2. Creación de los subconjuntos de datos\n",
    "3. Conclusiones\n",
    "4. Referencias"
   ]
  },
  {
   "cell_type": "markdown",
   "id": "114c3829",
   "metadata": {},
   "source": [
    "# 1. Creación del dataframe\n",
    "En primer lugar, se va a crear un dataframe que facilite posteriormente, la carga de las imágenes para el entrenamiento. Para ello, se busca crear un dataframe con 3 columnas, **patiend_id**, **path** de la imagen y la **label** de la muesta"
   ]
  },
  {
   "cell_type": "code",
   "execution_count": 23,
   "id": "485a015d",
   "metadata": {},
   "outputs": [],
   "source": [
    "base_path = 'IDC_regular_ps50_idx5/'"
   ]
  },
  {
   "cell_type": "code",
   "execution_count": 24,
   "id": "2ad2751d",
   "metadata": {},
   "outputs": [],
   "source": [
    "def preprocess_data(base_path):\n",
    "    data = []\n",
    "    \n",
    "    folder = listdir(base_path)\n",
    "    for n in range(len(folder)):\n",
    "        patient_id = folder[n]\n",
    "        patient_path = base_path + patient_id \n",
    "        for c in [0,1]:\n",
    "            class_path = patient_path + \"/\" + str(c) + \"/\"\n",
    "            subfiles = listdir(class_path)\n",
    "            for m in range(len(subfiles)):\n",
    "                image_path = subfiles[m]\n",
    "                \n",
    "                row = {}\n",
    "                row[\"patient_id\"] = patient_id\n",
    "                row[\"path\"] = class_path + image_path\n",
    "                row[\"label\"] = c\n",
    "\n",
    "                data.append(row)\n",
    "    df = pd.DataFrame(data)\n",
    "    return df    "
   ]
  },
  {
   "cell_type": "code",
   "execution_count": 25,
   "id": "f1e383a6",
   "metadata": {},
   "outputs": [
    {
     "data": {
      "text/html": [
       "<div>\n",
       "<style scoped>\n",
       "    .dataframe tbody tr th:only-of-type {\n",
       "        vertical-align: middle;\n",
       "    }\n",
       "\n",
       "    .dataframe tbody tr th {\n",
       "        vertical-align: top;\n",
       "    }\n",
       "\n",
       "    .dataframe thead th {\n",
       "        text-align: right;\n",
       "    }\n",
       "</style>\n",
       "<table border=\"1\" class=\"dataframe\">\n",
       "  <thead>\n",
       "    <tr style=\"text-align: right;\">\n",
       "      <th></th>\n",
       "      <th>patient_id</th>\n",
       "      <th>path</th>\n",
       "      <th>label</th>\n",
       "    </tr>\n",
       "  </thead>\n",
       "  <tbody>\n",
       "    <tr>\n",
       "      <th>0</th>\n",
       "      <td>10253</td>\n",
       "      <td>IDC_regular_ps50_idx5/10253/0/10253_idx5_x1001...</td>\n",
       "      <td>0</td>\n",
       "    </tr>\n",
       "    <tr>\n",
       "      <th>1</th>\n",
       "      <td>10253</td>\n",
       "      <td>IDC_regular_ps50_idx5/10253/0/10253_idx5_x1001...</td>\n",
       "      <td>0</td>\n",
       "    </tr>\n",
       "    <tr>\n",
       "      <th>2</th>\n",
       "      <td>10253</td>\n",
       "      <td>IDC_regular_ps50_idx5/10253/0/10253_idx5_x1001...</td>\n",
       "      <td>0</td>\n",
       "    </tr>\n",
       "    <tr>\n",
       "      <th>3</th>\n",
       "      <td>10253</td>\n",
       "      <td>IDC_regular_ps50_idx5/10253/0/10253_idx5_x1001...</td>\n",
       "      <td>0</td>\n",
       "    </tr>\n",
       "    <tr>\n",
       "      <th>4</th>\n",
       "      <td>10253</td>\n",
       "      <td>IDC_regular_ps50_idx5/10253/0/10253_idx5_x1001...</td>\n",
       "      <td>0</td>\n",
       "    </tr>\n",
       "  </tbody>\n",
       "</table>\n",
       "</div>"
      ],
      "text/plain": [
       "  patient_id                                               path  label\n",
       "0      10253  IDC_regular_ps50_idx5/10253/0/10253_idx5_x1001...      0\n",
       "1      10253  IDC_regular_ps50_idx5/10253/0/10253_idx5_x1001...      0\n",
       "2      10253  IDC_regular_ps50_idx5/10253/0/10253_idx5_x1001...      0\n",
       "3      10253  IDC_regular_ps50_idx5/10253/0/10253_idx5_x1001...      0\n",
       "4      10253  IDC_regular_ps50_idx5/10253/0/10253_idx5_x1001...      0"
      ]
     },
     "execution_count": 25,
     "metadata": {},
     "output_type": "execute_result"
    }
   ],
   "source": [
    "data = preprocess_data(base_path)\n",
    "data.head(5)"
   ]
  },
  {
   "cell_type": "code",
   "execution_count": 26,
   "id": "910d4258",
   "metadata": {},
   "outputs": [
    {
     "name": "stdout",
     "output_type": "stream",
     "text": [
      "<class 'pandas.core.frame.DataFrame'>\n",
      "RangeIndex: 277524 entries, 0 to 277523\n",
      "Data columns (total 3 columns):\n",
      " #   Column      Non-Null Count   Dtype \n",
      "---  ------      --------------   ----- \n",
      " 0   patient_id  277524 non-null  object\n",
      " 1   path        277524 non-null  object\n",
      " 2   label       277524 non-null  int64 \n",
      "dtypes: int64(1), object(2)\n",
      "memory usage: 6.4+ MB\n"
     ]
    }
   ],
   "source": [
    "data.info()"
   ]
  },
  {
   "cell_type": "markdown",
   "id": "f653b076",
   "metadata": {},
   "source": [
    "# 2. Creación de los subconjuntos de datos\n",
    "Posteriormente, se procede a crear 3 subconjuntos de datos: **training**, **validation** y **test**. El objetivo es entrenar los distintos modelos a desarrollar con el conjunto training, probar el rendimiento del modelo y ajustar los hiperparámetros y finalmente, evaluar el rendimiento del modelo con el conjunto test, una vez que se han ajustado los hiperparámetros. \n",
    "\n",
    "Por tanto, la división final es: 30% para el conjunto de test. Dentro de ese 30%, la mitad para validation y la otra mitad para test."
   ]
  },
  {
   "cell_type": "code",
   "execution_count": 27,
   "id": "a1a57c89",
   "metadata": {},
   "outputs": [
    {
     "name": "stdout",
     "output_type": "stream",
     "text": [
      "Training Data Shape: (194266, 2)\n",
      "Testing Data Shape: (41629, 2)\n",
      "Validation Data Shape: (41629, 2)\n"
     ]
    }
   ],
   "source": [
    "X = data.drop('label', axis=1)\n",
    "y = data['label']\n",
    "\n",
    "# Split into train and test sets\n",
    "X_train, X_test, y_train, y_test = train_test_split(X, y, test_size=0.3, random_state=42, stratify=y)\n",
    "\n",
    "# Split the test set further into test and validation sets\n",
    "X_val, X_test, y_val, y_test = train_test_split(X_test, y_test, test_size=0.5, random_state=42)\n",
    "\n",
    "print(\"Training Data Shape:\", X_train.shape)\n",
    "print(\"Testing Data Shape:\", X_test.shape)\n",
    "print(\"Validation Data Shape:\", X_val.shape)"
   ]
  },
  {
   "cell_type": "code",
   "execution_count": 28,
   "id": "f4292196",
   "metadata": {},
   "outputs": [],
   "source": [
    "X_train[\"label\"] = y_train\n",
    "X_test[\"label\"] = y_test\n",
    "X_val[\"label\"] = y_val"
   ]
  },
  {
   "cell_type": "markdown",
   "id": "f7674cde",
   "metadata": {},
   "source": [
    "Se crean los 3 archivos **csv** para poder cargar los datos en un futuro. De esta forma, se podrá comporar los modelos al evaluar sus rendimientos en el mismo subconjunto de datos."
   ]
  },
  {
   "cell_type": "code",
   "execution_count": 29,
   "id": "c95275b2",
   "metadata": {},
   "outputs": [],
   "source": [
    "X_train.to_csv(\"train_data.csv\", index=False)\n",
    "X_test.to_csv(\"test_data.csv\", index=False)\n",
    "X_val.to_csv(\"val_data.csv\", index=False)"
   ]
  },
  {
   "cell_type": "markdown",
   "id": "058f42d7",
   "metadata": {},
   "source": [
    "Ahora se estudiará la distribución de los subconjuntos de datos."
   ]
  },
  {
   "cell_type": "code",
   "execution_count": 20,
   "id": "d18c544c",
   "metadata": {},
   "outputs": [
    {
     "data": {
      "image/png": "[encoded data removed]",
      "text/plain": [
       "<Figure size 1200x400 with 3 Axes>"
      ]
     },
     "metadata": {},
     "output_type": "display_data"
    }
   ],
   "source": [
    "fig, axs = plt.subplots(1, 3, figsize=(12, 4))\n",
    "\n",
    "df_y_train = pd.DataFrame()\n",
    "df_y_train[\"Train\"] = y_train\n",
    "\n",
    "df_y_test = pd.DataFrame()\n",
    "df_y_test[\"Test\"] = y_test\n",
    "\n",
    "df_y_val = pd.DataFrame()\n",
    "df_y_val[\"Val\"] = y_val\n",
    "\n",
    "\n",
    "sns.countplot(data=df_y_train, x='Train', ax=axs[0])\n",
    "sns.countplot(data=df_y_test, x='Test', ax=axs[1])\n",
    "sns.countplot(data=df_y_val, x='Val', ax=axs[2])\n",
    "\n",
    "axs[0].set_title('Train data')\n",
    "axs[0].set_xlabel('Count')\n",
    "axs[0].set_ylabel('Labels')\n",
    "\n",
    "axs[1].set_title('Test data')\n",
    "axs[1].set_xlabel('Count')\n",
    "axs[1].set_ylabel('Labels')\n",
    "\n",
    "axs[2].set_title('Validation data')\n",
    "axs[2].set_xlabel('Count')\n",
    "axs[2].set_ylabel('Labels')\n",
    "\n",
    "plt.tight_layout()\n",
    "\n",
    "plt.show()"
   ]
  },
  {
   "cell_type": "markdown",
   "id": "3e05b553",
   "metadata": {},
   "source": [
    "# 3. Conclusiones\n",
    "\n",
    "* Como se puede observar, los 3 subconjuntos de datos están desbalanceados en la misma proporción (división estratificada).\n",
    "* No se va a optar por técnicas como **oversampling** o **subsampling** para igualar las clases, pues este tipo de técnicas ya han sido usadas en estudios anteriores [1]. Nuestro objetivo es aplicar otro tipo de técnica como la **ponderación de las clases**, para evaluar el rendimiento de los modelos con dicha técnica en comparación a entrenar el modelo con un conjunto de datos equilibrado."
   ]
  },
  {
   "cell_type": "markdown",
   "id": "9c49adbc",
   "metadata": {},
   "source": [
    "# 4. Referencias\n",
    "[1] F. Perdigón Romero, A. Tang, S. Kadoury, *MULTI-LEVEL BATCH NORMALIZATION IN DEEP NETWORKS FOR INVASIVE DUCTAL\n",
    "CARCINOMA CELL DISCRIMINATION IN HISTOPATHOLOGY IMAGES*"
   ]
  },
  {
   "cell_type": "code",
   "execution_count": null,
   "id": "79fc9e20",
   "metadata": {},
   "outputs": [],
   "source": []
  }
 ],
 "metadata": {
  "kernelspec": {
   "display_name": "Python 3 (ipykernel)",
   "language": "python",
   "name": "python3"
  },
  "language_info": {
   "codemirror_mode": {
    "name": "ipython",
    "version": 3
   },
   "file_extension": ".py",
   "mimetype": "text/x-python",
   "name": "python",
   "nbconvert_exporter": "python",
   "pygments_lexer": "ipython3",
   "version": "3.10.11"
  }
 },
 "nbformat": 4,
 "nbformat_minor": 5
}
